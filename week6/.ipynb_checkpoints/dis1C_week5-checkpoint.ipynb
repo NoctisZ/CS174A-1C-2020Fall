{
 "cells": [
  {
   "cell_type": "markdown",
   "metadata": {
    "slideshow": {
     "slide_type": "slide"
    }
   },
   "source": [
    "# CS-174A Discussion 1C, Week 5\n",
    "\n",
    "@ Xiao (Steven) Zeng\n",
    "\n",
    "@ Instructor: Dr. Asish Law\n",
    "\n",
    "@ Discussion 1C Github: https://github.com/NoctisZ/CS174A-1C-2020Fall"
   ]
  },
  {
   "cell_type": "markdown",
   "metadata": {
    "slideshow": {
     "slide_type": "slide"
    }
   },
   "source": [
    "# Outline\n",
    "\n",
    "- Midterm Q&A\n",
    "- Q&A about Assignment 3"
   ]
  },
  {
   "cell_type": "markdown",
   "metadata": {
    "slideshow": {
     "slide_type": "subslide"
    }
   },
   "source": [
    "# Midterm Q&A\n",
    "\n"
   ]
  },
  {
   "cell_type": "markdown",
   "metadata": {
    "slideshow": {
     "slide_type": "subslide"
    }
   },
   "source": [
    "# Assginement 3\n",
    "\n",
    "## Shader\n",
    "- <b>Shader</b> is a type of program used in 3D scenes for the production of appropriate levels of light, darkness, and color in a rendered image. It now has more functions than its original purpose and is widely used fields like special effects and video post-processing.\n",
    "\n"
   ]
  }
 ],
 "metadata": {
  "celltoolbar": "Slideshow",
  "kernelspec": {
   "display_name": "Python 3",
   "language": "python",
   "name": "python3"
  },
  "language_info": {
   "codemirror_mode": {
    "name": "ipython",
    "version": 3
   },
   "file_extension": ".py",
   "mimetype": "text/x-python",
   "name": "python",
   "nbconvert_exporter": "python",
   "pygments_lexer": "ipython3",
   "version": "3.6.5"
  }
 },
 "nbformat": 4,
 "nbformat_minor": 2
}
