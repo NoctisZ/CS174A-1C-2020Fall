{
 "cells": [
  {
   "cell_type": "markdown",
   "metadata": {
    "slideshow": {
     "slide_type": "slide"
    }
   },
   "source": [
    "# CS-174A Discussion 1C, Week 3\n",
    "\n",
    "@ Xiao (Steven) Zeng\n",
    "\n",
    "@ Instructor: Dr. Asish Law\n",
    "\n",
    "@ Discussion 1C Github: https://github.com/NoctisZ/CS174A-1C-2020Fall"
   ]
  },
  {
   "cell_type": "markdown",
   "metadata": {
    "slideshow": {
     "slide_type": "slide"
    }
   },
   "source": [
    "# Outline\n",
    "\n",
    "- Recap of Lecture Content\n",
    "- Q&A about Assignment 2\n",
    "- Assginment 3\n",
    "- Team Project"
   ]
  },
  {
   "cell_type": "markdown",
   "metadata": {
    "slideshow": {
     "slide_type": "subslide"
    }
   },
   "source": [
    "# Review of Lecture Content\n",
    "\n",
    "## Basic Transformations\n",
    "\n",
    "- Translation\n",
    "- Scaling\n",
    "- Rotation\n",
    "- Shearing"
   ]
  },
  {
   "cell_type": "markdown",
   "metadata": {
    "slideshow": {
     "slide_type": "subslide"
    }
   },
   "source": [
    "- Translation\n",
    "$$\n",
    "\\begin{pmatrix}\n",
    " x' \\\\\n",
    " y' \\\\\n",
    " z' \\\\\n",
    " 1 \\\\\n",
    "\\end{pmatrix}\n",
    "=\n",
    "\\begin{pmatrix}\n",
    " 1 & 0 & 0 & t_x \\\\\n",
    " 0 & 1 & 0 & t_y \\\\\n",
    " 0 & 0 & 1 & t_z \\\\\n",
    " 0 & 0 & 0 & 1 \\\\\n",
    "\\end{pmatrix}\n",
    "\\begin{pmatrix}\n",
    " x \\\\\n",
    " y \\\\\n",
    " z \\\\\n",
    " 1 \\\\\n",
    "\\end{pmatrix}\n",
    "$$\n",
    "\n",
    "- Scaling\n",
    "$$\n",
    "\\begin{pmatrix}\n",
    " x' \\\\\n",
    " y' \\\\\n",
    " z' \\\\\n",
    " 1 \\\\\n",
    "\\end{pmatrix}\n",
    "=\n",
    "\\begin{pmatrix}\n",
    " s_x & 0 & 0 & 0 \\\\\n",
    " 0 & s_y & 0 & 0 \\\\\n",
    " 0 & 0 & s_z & 0 \\\\\n",
    " 0 & 0 & 0 & 1 \\\\\n",
    "\\end{pmatrix}\n",
    "\\begin{pmatrix}\n",
    " x \\\\\n",
    " y \\\\\n",
    " z \\\\\n",
    " 1 \\\\\n",
    "\\end{pmatrix}\n",
    "$$"
   ]
  },
  {
   "cell_type": "markdown",
   "metadata": {
    "slideshow": {
     "slide_type": "subslide"
    }
   },
   "source": [
    "- Rotation <br>\n",
    "<b>Rotate about $z-$axis</b>:\n",
    "$$\n",
    "\\begin{pmatrix}\n",
    " x' \\\\\n",
    " y' \\\\\n",
    " z' \\\\\n",
    " 1 \\\\\n",
    "\\end{pmatrix}\n",
    "=\n",
    "\\begin{pmatrix}\n",
    " \\cos (\\theta ) & -\\sin (\\theta ) & 0 & 0 \\\\\n",
    " \\sin (\\theta ) & \\cos (\\theta ) & 0 & 0 \\\\\n",
    " 0 & 0 & 1 & 0 \\\\\n",
    " 0 & 0 & 0 & 1 \\\\\n",
    "\\end{pmatrix}\n",
    "\\begin{pmatrix}\n",
    " x \\\\\n",
    " y \\\\\n",
    " z \\\\\n",
    " 1 \\\\\n",
    "\\end{pmatrix}\n",
    "$$\n",
    "\n",
    "-  E.g. Rotation when $\\theta=\\pi/4$, \n",
    "$$\n",
    "R = \n",
    "\\begin{pmatrix}\n",
    " \\frac{1}{\\sqrt{2}} & -\\frac{1}{\\sqrt{2}} & 0 & 0 \\\\\n",
    " \\frac{1}{\\sqrt{2}} & \\frac{1}{\\sqrt{2}} & 0 & 0 \\\\\n",
    " 0 & 0 & 1 & 0 \\\\\n",
    " 0 & 0 & 0 & 1 \\\\\n",
    "\\end{pmatrix}\n",
    "$$"
   ]
  },
  {
   "cell_type": "markdown",
   "metadata": {
    "slideshow": {
     "slide_type": "subslide"
    }
   },
   "source": [
    "- Combination of transformation: <br>\n",
    "Eg. Scale(2) first, then Translation(x = 1, y = 2, z = 3)\n",
    "$$\n",
    "M_{translate} \\cdot M_{scale} \\cdot P_{original}\n",
    "$$\n",
    "<br>\n",
    "$$\n",
    "= \n",
    "\\begin{pmatrix}\n",
    " 1 & 0 & 0 & 1 \\\\\n",
    " 0 & 1 & 0 & 2 \\\\\n",
    " 0 & 0 & 1 & 3 \\\\\n",
    " 0 & 0 & 0 & 1 \\\\\n",
    "\\end{pmatrix}\n",
    "\\cdot\n",
    "\\begin{pmatrix}\n",
    " 2 & 0 & 0 & 0 \\\\\n",
    " 0 & 2 & 0 & 0 \\\\\n",
    " 0 & 0 & 2 & 0 \\\\\n",
    " 0 & 0 & 0 & 1 \\\\\n",
    "\\end{pmatrix}\n",
    "\\cdot\n",
    "\\begin{pmatrix}\n",
    " x \\\\\n",
    " y \\\\\n",
    " z \\\\\n",
    " 1 \\\\\n",
    "\\end{pmatrix}\n",
    "$$\n",
    "<br>\n",
    "$$\n",
    "=\n",
    "\\begin{pmatrix}\n",
    " 2 & 0 & 0 & 1 \\\\\n",
    " 0 & 2 & 0 & 2 \\\\\n",
    " 0 & 0 & 2 & 3 \\\\\n",
    " 0 & 0 & 0 & 1 \\\\\n",
    "\\end{pmatrix}\n",
    "\\begin{pmatrix}\n",
    " x \\\\\n",
    " y \\\\\n",
    " z \\\\\n",
    " 1 \\\\\n",
    "\\end{pmatrix}\n",
    "=\n",
    "\\begin{pmatrix}\n",
    " 2x + 1 \\\\\n",
    " 2y + 2 \\\\\n",
    " 2z + 3 \\\\\n",
    " 1 \\\\\n",
    "\\end{pmatrix}\n",
    "$$\n"
   ]
  },
  {
   "cell_type": "markdown",
   "metadata": {
    "slideshow": {
     "slide_type": "subslide"
    }
   },
   "source": [
    "## Shear\n",
    "\n",
    "$$x' = x + \\mathrm{Sh}_{x}^{y} y + \\mathrm{Sh}_{x}^{z} z$$\n",
    "\n",
    "$$y' = \\mathrm{Sh}_{y}^{x}x + y +\\mathrm{Sh}_{y}^{z}z$$\n",
    "\n",
    "$$z' = \\mathrm{Sh}_{z}^{x}x + \\mathrm{Sh}_{z}^{y}y + z$$\n",
    "\n",
    "$$\n",
    "\\begin{pmatrix}\n",
    " x' \\\\\n",
    " y' \\\\\n",
    " z' \\\\\n",
    " 1 \\\\\n",
    "\\end{pmatrix}\n",
    "=\n",
    "\\begin{pmatrix}\n",
    " 1 & \\mathrm{Sh}_{x}^{y} & \\mathrm{Sh}_{x}^{z} & 0 \\\\\n",
    " \\mathrm{Sh}_{y}^{x} & 1 & \\mathrm{Sh}_{y}^{z} & 0 \\\\\n",
    " \\mathrm{Sh}_{z}^{x} & \\mathrm{Sh}_{z}^{y} & 1 & 0 \\\\\n",
    " 0 & 0 & 0 & 1 \\\\\n",
    "\\end{pmatrix}\n",
    "\\begin{pmatrix}\n",
    " x \\\\\n",
    " y \\\\\n",
    " z \\\\\n",
    " 1 \\\\\n",
    "\\end{pmatrix}\n",
    "$$\n"
   ]
  },
  {
   "cell_type": "markdown",
   "metadata": {
    "slideshow": {
     "slide_type": "subslide"
    }
   },
   "source": [
    "## Transformations are NOT commutative.\n",
    "\n",
    "- Matrix multiplication is not commutative.\n",
    "  - When performing multiple rotation transformations.\n",
    "  - The order of transformation types matters.\n",
    "  - i.e. $q=TRSTp$ is not the same as $q=TSRTp$"
   ]
  },
  {
   "attachments": {
    "ChangeofBasis_example.png": {
     "image/png": "[encoded data removed]"
    }
   },
   "cell_type": "markdown",
   "metadata": {
    "slideshow": {
     "slide_type": "subslide"
    }
   },
   "source": [
    "## Change of Basis\n",
    "\n",
    "- We want to find the coordinates of P in the new coordinate system $C_2$\n",
    "![ChangeofBasis_example.png](attachment:ChangeofBasis_example.png)\n",
    "\n"
   ]
  },
  {
   "attachments": {
    "ChangeofBasis_eq.png": {
     "image/png": "[encoded data removed]"
    },
    "ChangeofBasis_eq0.png": {
     "image/png": "[encoded data removed]"
    }
   },
   "cell_type": "markdown",
   "metadata": {
    "slideshow": {
     "slide_type": "subslide"
    }
   },
   "source": [
    "- $P_{C_2} = M^{-1} P_{C_1}$ where $P_{C_2}$ is the representation of point $P$ in new coordiante system $C_2$\n",
    "\n",
    "- where ![ChangeofBasis_eq0.png](attachment:ChangeofBasis_eq0.png)\n",
    "and\n",
    "![ChangeofBasis_eq.png](attachment:ChangeofBasis_eq.png)\n",
    "\n",
    "\n"
   ]
  },
  {
   "cell_type": "markdown",
   "metadata": {
    "slideshow": {
     "slide_type": "slide"
    }
   },
   "source": [
    "# Q&A about Assignment 2\n",
    "\n",
    "- Due on Oct. 25 at 11:59 PM\n",
    "- Carefully design your triangle strip and transformation for Extra Credit parts\n"
   ]
  },
  {
   "cell_type": "markdown",
   "metadata": {
    "slideshow": {
     "slide_type": "slide"
    }
   },
   "source": [
    "# Assignment 3\n",
    "\n",
    "- Create GitHub repo from: https://classroom.github.com/a/sHEKI20M\n",
    "- Some introduction to shading: "
   ]
  },
  {
   "cell_type": "markdown",
   "metadata": {
    "slideshow": {
     "slide_type": "slide"
    }
   },
   "source": [
    "# Team Project\n",
    "\n",
    "- Specs: \n"
   ]
  }
 ],
 "metadata": {
  "celltoolbar": "Slideshow",
  "kernelspec": {
   "display_name": "Python 3",
   "language": "python",
   "name": "python3"
  },
  "language_info": {
   "codemirror_mode": {
    "name": "ipython",
    "version": 3
   },
   "file_extension": ".py",
   "mimetype": "text/x-python",
   "name": "python",
   "nbconvert_exporter": "python",
   "pygments_lexer": "ipython3",
   "version": "3.6.5"
  }
 },
 "nbformat": 4,
 "nbformat_minor": 2
}
