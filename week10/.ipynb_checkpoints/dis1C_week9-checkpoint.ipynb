{
 "cells": [
  {
   "cell_type": "markdown",
   "metadata": {
    "slideshow": {
     "slide_type": "slide"
    }
   },
   "source": [
    "# CS-174A Discussion 1C, Week 9\n",
    "\n",
    "@ Xiao (Steven) Zeng\n",
    "\n",
    "@ Instructor: Dr. Asish Law\n",
    "\n",
    "@ Discussion 1C Github: https://github.com/NoctisZ/CS174A-1C-2020Fall"
   ]
  },
  {
   "cell_type": "markdown",
   "metadata": {
    "slideshow": {
     "slide_type": "slide"
    }
   },
   "source": [
    "# Outline\n",
    "\n",
    "- Announcements\n",
    "- Final Exercises\n",
    "- Collision Detection\n",
    "- Group Project Q&A"
   ]
  },
  {
   "cell_type": "markdown",
   "metadata": {
    "slideshow": {
     "slide_type": "slide"
    }
   },
   "source": [
    "# Announcements\n",
    "\n",
    "- Course evaluation is from 8:00 AM, 12/3 to 8:00 AM on 12/12. You will get bonus points (5 points) if finishing it!\n",
    "- Today is the last day to determine pass/no-pass option\n",
    "- Group project <b>final demo</b> will be on next Friday, 12/11 during discussion sessions\n",
    "- Group project code due on 12/13\n",
    "- No need to write a report separately, just describe your design and function in a README file\n",
    "- <b>Final exam</b> will be at 6:00 - 8:30 PM PST on 12/17, on Zoom.\n",
    "\n"
   ]
  },
  {
   "cell_type": "markdown",
   "metadata": {
    "slideshow": {
     "slide_type": "slide"
    }
   },
   "source": [
    "# Final Exercises\n",
    "\n",
    "## Question 7.1\n",
    "- How is an image produced with an environment map different from a ray-traced image of the same scene?\n"
   ]
  },
  {
   "cell_type": "markdown",
   "metadata": {
    "slideshow": {
     "slide_type": "subslide"
    }
   },
   "source": [
    "- The major problem is that the environment map is computed without the object in the scene. Thus, all global lighting calculations of which it should be a part are incorrect. These errors can be most noticeable if there are other reflective objects will now not show the reflection of the removed object. Other errors can be caused by the removed object no longer blocking light and by its shadows being missing.\n",
    "- In addition, a new environment map should be computed for each viewpoint."
   ]
  },
  {
   "cell_type": "markdown",
   "metadata": {
    "slideshow": {
     "slide_type": "subslide"
    }
   },
   "source": [
    "## Question 13.1\n",
    "- Devise a test for whether a point is inside a convex polygon based on the idea that the polygon can be described by a set intersecting lines in a single plane\n"
   ]
  },
  {
   "cell_type": "markdown",
   "metadata": {
    "slideshow": {
     "slide_type": "subslide"
    }
   },
   "source": [
    "-  Let’s do the problem in two dimensions. The solution in three dimensions is essentially the same. Assume that the vertices are used in a consistent clockwise or counterclockwise manner. Starting at some vertex, that vertex and the next determine a line of the form: <br>\n",
    "$ax + by + c = 0$ <br>\n",
    "If we evaluate $ax + by + c = 0$ for a given point, the result will be positive or negative depending on which side of the line the point lies. If we are following the vertices in a clockwise manner, the point is inside the polygon if and only if it is to the right of each of these lines."
   ]
  },
  {
   "cell_type": "markdown",
   "metadata": {
    "slideshow": {
     "slide_type": "slide"
    }
   },
   "source": [
    "\n",
    "# Collision Detection\n",
    "\n",
    "- Example: examples/collisions-demo.js"
   ]
  },
  {
   "cell_type": "markdown",
   "metadata": {
    "slideshow": {
     "slide_type": "slide"
    }
   },
   "source": [
    "# Group Project Q&A\n",
    "\n",
    "- Final demo presentation will be on next Friday, 12/11\n",
    "- Order will be same as midway demo by default. Please let us know if you have difficulty attending a session\n",
    "- Demo's order: https://docs.google.com/spreadsheets/d/1D5poDA1I_s0cmUfHGwVVPZih6sexE60d_mSTD8Zm7_0/edit?usp=sharing\n",
    "\n",
    "\n"
   ]
  }
 ],
 "metadata": {
  "celltoolbar": "Slideshow",
  "kernelspec": {
   "display_name": "Python 3",
   "language": "python",
   "name": "python3"
  },
  "language_info": {
   "codemirror_mode": {
    "name": "ipython",
    "version": 3
   },
   "file_extension": ".py",
   "mimetype": "text/x-python",
   "name": "python",
   "nbconvert_exporter": "python",
   "pygments_lexer": "ipython3",
   "version": "3.6.5"
  }
 },
 "nbformat": 4,
 "nbformat_minor": 2
}
